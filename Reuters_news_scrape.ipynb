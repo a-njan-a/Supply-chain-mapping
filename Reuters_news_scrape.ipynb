{
  "cells": [
    {
      "cell_type": "markdown",
      "metadata": {
        "id": "view-in-github",
        "colab_type": "text"
      },
      "source": [
        "<a href=\"https://colab.research.google.com/github/a-njan-a/Supply-chain-mapping/blob/main/Reuters_news_scrape.ipynb\" target=\"_parent\"><img src=\"https://colab.research.google.com/assets/colab-badge.svg\" alt=\"Open In Colab\"/></a>"
      ]
    },
    {
      "cell_type": "code",
      "execution_count": null,
      "metadata": {
        "colab": {
          "base_uri": "https://localhost:8080/"
        },
        "id": "v-wkss8n-D9f",
        "outputId": "4c8c3839-6d74-4551-8a53-4d668c79a8b6"
      },
      "outputs": [
        {
          "name": "stdout",
          "output_type": "stream",
          "text": [
            "\u001b[2K     \u001b[90m━━━━━━━━━━━━━━━━━━━━━━━━━━━━━━━━━━━━━━━━\u001b[0m \u001b[32m10.2/10.2 MB\u001b[0m \u001b[31m22.8 MB/s\u001b[0m eta \u001b[36m0:00:00\u001b[0m\n",
            "\u001b[2K     \u001b[90m━━━━━━━━━━━━━━━━━━━━━━━━━━━━━━━━━━━━━━━━\u001b[0m \u001b[32m448.3/448.3 kB\u001b[0m \u001b[31m47.2 MB/s\u001b[0m eta \u001b[36m0:00:00\u001b[0m\n",
            "\u001b[2K     \u001b[90m━━━━━━━━━━━━━━━━━━━━━━━━━━━━━━━━━━━━━━━━\u001b[0m \u001b[32m58.3/58.3 kB\u001b[0m \u001b[31m8.5 MB/s\u001b[0m eta \u001b[36m0:00:00\u001b[0m\n",
            "\u001b[2K     \u001b[90m━━━━━━━━━━━━━━━━━━━━━━━━━━━━━━━━━━━━━━━━\u001b[0m \u001b[32m143.0/143.0 kB\u001b[0m \u001b[31m4.5 MB/s\u001b[0m eta \u001b[36m0:00:00\u001b[0m\n",
            "\u001b[?25h"
          ]
        }
      ],
      "source": [
        "!pip install requests --upgrade --quiet\n",
        "!pip install pandas --quiet\n",
        "!pip install selenium --quiet\n",
        "!pip install beautifulsoup4 --upgrade --quiet\n",
        "!pip install webdriver-manager --quiet\n"
      ]
    },
    {
      "cell_type": "code",
      "execution_count": null,
      "metadata": {
        "colab": {
          "background_save": true,
          "base_uri": "https://localhost:8080/"
        },
        "id": "14r8eYP_fDDc",
        "outputId": "2f47162f-8dd7-42e1-8e6e-be5c41c60af6"
      },
      "outputs": [
        {
          "name": "stdout",
          "output_type": "stream",
          "text": [
            "Requirement already satisfied: selenium in /usr/local/lib/python3.10/dist-packages (4.15.2)\n",
            "Requirement already satisfied: webdriver_manager in /usr/local/lib/python3.10/dist-packages (4.0.1)\n",
            "Requirement already satisfied: urllib3[socks]<3,>=1.26 in /usr/local/lib/python3.10/dist-packages (from selenium) (2.0.7)\n",
            "Requirement already satisfied: trio~=0.17 in /usr/local/lib/python3.10/dist-packages (from selenium) (0.23.1)\n",
            "Requirement already satisfied: trio-websocket~=0.9 in /usr/local/lib/python3.10/dist-packages (from selenium) (0.11.1)\n",
            "Requirement already satisfied: certifi>=2021.10.8 in /usr/local/lib/python3.10/dist-packages (from selenium) (2023.7.22)\n",
            "Requirement already satisfied: requests in /usr/local/lib/python3.10/dist-packages (from webdriver_manager) (2.31.0)\n",
            "Requirement already satisfied: python-dotenv in /usr/local/lib/python3.10/dist-packages (from webdriver_manager) (1.0.0)\n",
            "Requirement already satisfied: packaging in /usr/local/lib/python3.10/dist-packages (from webdriver_manager) (23.2)\n",
            "Requirement already satisfied: attrs>=20.1.0 in /usr/local/lib/python3.10/dist-packages (from trio~=0.17->selenium) (23.1.0)\n",
            "Requirement already satisfied: sortedcontainers in /usr/local/lib/python3.10/dist-packages (from trio~=0.17->selenium) (2.4.0)\n",
            "Requirement already satisfied: idna in /usr/local/lib/python3.10/dist-packages (from trio~=0.17->selenium) (3.4)\n",
            "Requirement already satisfied: outcome in /usr/local/lib/python3.10/dist-packages (from trio~=0.17->selenium) (1.3.0.post0)\n",
            "Requirement already satisfied: sniffio>=1.3.0 in /usr/local/lib/python3.10/dist-packages (from trio~=0.17->selenium) (1.3.0)\n",
            "Requirement already satisfied: exceptiongroup>=1.0.0rc9 in /usr/local/lib/python3.10/dist-packages (from trio~=0.17->selenium) (1.1.3)\n",
            "Requirement already satisfied: wsproto>=0.14 in /usr/local/lib/python3.10/dist-packages (from trio-websocket~=0.9->selenium) (1.2.0)\n",
            "Requirement already satisfied: pysocks!=1.5.7,<2.0,>=1.5.6 in /usr/local/lib/python3.10/dist-packages (from urllib3[socks]<3,>=1.26->selenium) (1.7.1)\n",
            "Requirement already satisfied: charset-normalizer<4,>=2 in /usr/local/lib/python3.10/dist-packages (from requests->webdriver_manager) (3.3.1)\n",
            "Requirement already satisfied: h11<1,>=0.9.0 in /usr/local/lib/python3.10/dist-packages (from wsproto>=0.14->trio-websocket~=0.9->selenium) (0.14.0)\n"
          ]
        }
      ],
      "source": [
        "!pip install --upgrade selenium webdriver_manager"
      ]
    },
    {
      "cell_type": "code",
      "execution_count": null,
      "metadata": {
        "colab": {
          "background_save": true
        },
        "id": "_X4nnOuI-Nwg"
      },
      "outputs": [],
      "source": [
        "import requests\n",
        "import os\n",
        "import pandas as pd\n",
        "\n",
        "import selenium\n",
        "from selenium import webdriver\n",
        "from selenium.webdriver.common.by import By\n",
        "from selenium.webdriver.common.keys import Keys\n",
        "from selenium.webdriver.chrome.service import Service\n",
        "from selenium.webdriver.chrome.options import Options\n",
        "\n",
        "from webdriver_manager.chrome import ChromeDriverManager\n",
        "\n",
        "import time\n",
        "\n",
        "from bs4 import BeautifulSoup"
      ]
    },
    {
      "cell_type": "code",
      "execution_count": null,
      "metadata": {
        "colab": {
          "background_save": true
        },
        "id": "qBsXq__yZMZz",
        "outputId": "d70ac8ee-9d02-48bc-faba-548a077611bd"
      },
      "outputs": [
        {
          "data": {
            "application/vnd.google.colaboratory.intrinsic+json": {
              "type": "string"
            },
            "text/plain": [
              "'4.15.2'"
            ]
          },
          "execution_count": 4,
          "metadata": {},
          "output_type": "execute_result"
        }
      ],
      "source": [
        "selenium.__version__"
      ]
    },
    {
      "cell_type": "code",
      "execution_count": null,
      "metadata": {
        "colab": {
          "background_save": true
        },
        "id": "gty3S1Db-Rwf"
      },
      "outputs": [],
      "source": [
        "topics_url = 'https://www.reuters.com/tags/supply-chain/'"
      ]
    },
    {
      "cell_type": "code",
      "execution_count": null,
      "metadata": {
        "id": "uBAp1zUt-Vr1"
      },
      "outputs": [],
      "source": [
        "response = requests.get(topics_url)"
      ]
    },
    {
      "cell_type": "code",
      "execution_count": null,
      "metadata": {
        "id": "M-4OAfVf-Xgt"
      },
      "outputs": [],
      "source": [
        "response.status_code"
      ]
    },
    {
      "cell_type": "code",
      "execution_count": null,
      "metadata": {
        "id": "PXucF3BC-ZAN"
      },
      "outputs": [],
      "source": [
        "page_contents = response.text\n",
        "page_contents[:1000]"
      ]
    },
    {
      "cell_type": "code",
      "execution_count": null,
      "metadata": {
        "id": "F-BsZ4GS-be1"
      },
      "outputs": [],
      "source": [
        "with open('webpage.html', 'w', encoding='utf-8' ) as f:\n",
        "    f.write (page_contents)"
      ]
    },
    {
      "cell_type": "code",
      "execution_count": null,
      "metadata": {
        "id": "kVANwp9v-17S"
      },
      "outputs": [],
      "source": [
        "doc = BeautifulSoup(page_contents, 'html.parser')"
      ]
    },
    {
      "cell_type": "code",
      "execution_count": null,
      "metadata": {
        "id": "skysViQx54MG"
      },
      "outputs": [],
      "source": [
        "#Using selenium to scrape data\n",
        "\n",
        "# Initialize the Chrome WebDriver (or choose a different browser)\n",
        "# options = Options()\n",
        "# options.add_experimental_option(\"detach\", True)\n",
        "# driver = webdriver.Chrome(service=Service(ChromeDriverManager().install()),\n",
        "#                           options=options)\n",
        "\n",
        "driver = webdriver.Chrome(service=Service(ChromeDriverManager().install()))\n",
        "\n",
        "# Open the URL\n",
        "url = \"https://www.reuters.com/tags/supply-chain/\"  # Replace with the actual URL\n",
        "driver.get(url)\n",
        "\n",
        "all_headlines = []\n",
        "\n",
        "while True:\n",
        "    try:\n",
        "        # Find and scrape the news headlines\n",
        "        headline_tags = driver.find_elements(By.XPATH, \"//a[@class='text__text__1FZLe text__dark-grey__3Ml43 text__inherit-font__1Y8w3 text__inherit-size__1DZJi link__underline_on_hover__2zGL4 link__inherit-line-height__2qjXx media-story-card__heading__eqhp9']\")  # Adjust the XPath as needed\n",
        "\n",
        "        for headline in headline_tags:\n",
        "            all_headlines.append(headline.text)\n",
        "\n",
        "        # Click the \"Next\" button (adjust the XPath as needed)\n",
        "        next_button = driver.find_element(By.XPATH, \"//button[@class='button__button__2Ecqi button__secondary__18moI button__round__1nYLA button__has-tooltip__1B4u0 search-results__page__3kjXX']\")\n",
        "        next_button.click()\n",
        "\n",
        "        # Wait briefly to allow the next page to load\n",
        "        time.sleep(2)  # Adjust the sleep duration as needed\n",
        "    except Exception as e:\n",
        "        # Handle exceptions, e.g., if there's no \"Next\" button or an error occurs\n",
        "        print(\"An error occurred:\", str(e))\n",
        "        break\n",
        "\n",
        "# Close the browser when done\n",
        "driver.quit()\n",
        "\n",
        "# Now, all_headlines contains headlines from all pages\n"
      ]
    },
    {
      "cell_type": "code",
      "execution_count": null,
      "metadata": {
        "id": "jnY2CbgD-5Di"
      },
      "outputs": [],
      "source": [
        "selection_class=\"text__text__1FZLe text__dark-grey__3Ml43 text__inherit-font__1Y8w3 text__inherit-size__1DZJi link__underline_on_hover__2zGL4 link__inherit-line-height__2qjXx media-story-card__heading__eqhp9\"\n",
        "headline_tags = doc.find_all('a', {'class' : selection_class})"
      ]
    },
    {
      "cell_type": "code",
      "execution_count": null,
      "metadata": {
        "id": "sxn0iNJRG-pd"
      },
      "outputs": [],
      "source": [
        "headline_tags[0]"
      ]
    },
    {
      "cell_type": "code",
      "execution_count": null,
      "metadata": {
        "id": "WRj8E4AZAGrU"
      },
      "outputs": [],
      "source": [
        "headlines = []\n",
        "\n",
        "for tag in headline_tags:\n",
        "    headlines.append(tag.text)\n",
        "\n",
        "len(headlines)"
      ]
    },
    {
      "cell_type": "code",
      "execution_count": null,
      "metadata": {
        "id": "EHcj8fn_MdDE"
      },
      "outputs": [],
      "source": [
        "date_time = []\n",
        "\n",
        "time_class = \"text__text__1FZLe text__inherit-color__3208F text__regular__2N1Xr text__extra_small__1Mw6v body__base__22dCE body__extra_small_body__3QTYe media-story-card__time__2i9EK\"\n",
        "time_tags = doc.find_all('time', {'class' : time_class})\n",
        "\n",
        "for tag in time_tags:\n",
        "    date_time.append(tag['datetime'])\n",
        "\n",
        "print(date_time)"
      ]
    },
    {
      "cell_type": "code",
      "execution_count": null,
      "metadata": {
        "id": "FUgSVUvcGAnt"
      },
      "outputs": [],
      "source": [
        "news_urls = []\n",
        "base_url = \"https://www.reuters.com\"\n",
        "\n",
        "for tag in headline_tags:\n",
        "    news_urls.append(base_url + tag['href'])\n",
        "\n",
        "print(news_urls)"
      ]
    },
    {
      "cell_type": "markdown",
      "metadata": {
        "id": "RfBTsit4JRiQ"
      },
      "source": [
        "Getting article"
      ]
    },
    {
      "cell_type": "code",
      "execution_count": null,
      "metadata": {
        "id": "QgKze7QpHbKF"
      },
      "outputs": [],
      "source": [
        "news_page_url = news_urls[0]\n",
        "news_page_url"
      ]
    },
    {
      "cell_type": "code",
      "execution_count": null,
      "metadata": {
        "id": "d6HFyYVXKNEw"
      },
      "outputs": [],
      "source": [
        "response = requests.get(news_page_url)"
      ]
    },
    {
      "cell_type": "code",
      "execution_count": null,
      "metadata": {
        "id": "nR6ekuSgKRjW"
      },
      "outputs": [],
      "source": [
        "news_doc = BeautifulSoup(response.text, 'html.parser')"
      ]
    },
    {
      "cell_type": "code",
      "execution_count": null,
      "metadata": {
        "id": "qS2rAQPoKWLV"
      },
      "outputs": [],
      "source": [
        "para_selection_class = \"text__text__1FZLe text__dark-grey__3Ml43 text__regular__2N1Xr text__small__1kGq2 body__full_width__ekUdw body__small_body__2vQyf article-body__paragraph__2-BtD\"\n",
        "news_tags = news_doc.find_all('p', { 'class' : para_selection_class})"
      ]
    },
    {
      "cell_type": "code",
      "execution_count": null,
      "metadata": {
        "id": "5MOcXYWmK0e3"
      },
      "outputs": [],
      "source": [
        "news_tags"
      ]
    },
    {
      "cell_type": "code",
      "execution_count": null,
      "metadata": {
        "id": "sByRNxdNK4uu"
      },
      "outputs": [],
      "source": [
        "article_list = []\n",
        "\n",
        "for tag in news_tags:\n",
        "    article_list.append(tag.text)\n",
        "\n",
        "article = \" \".join([str(item) for item in article_list])\n",
        "print(article)"
      ]
    },
    {
      "cell_type": "code",
      "execution_count": null,
      "metadata": {
        "id": "5DqkKhl_P7kK"
      },
      "outputs": [],
      "source": [
        "articles = []\n",
        "\n",
        "for url in news_urls:\n",
        "  response = requests.get(url)\n",
        "  news_doc = BeautifulSoup(response.text, 'html.parser')\n",
        "  para_selection_class = \"text__text__1FZLe text__dark-grey__3Ml43 text__regular__2N1Xr text__small__1kGq2 body__full_width__ekUdw body__small_body__2vQyf article-body__paragraph__2-BtD\"\n",
        "\n",
        "  news_tags = news_doc.find_all('p', { 'class' : para_selection_class})\n",
        "  article_list = []\n",
        "\n",
        "  for tag in news_tags:\n",
        "    article_list.append(tag.text)\n",
        "\n",
        "  article = \" \".join([str(item) for item in article_list])\n",
        "  articles.append(article)"
      ]
    },
    {
      "cell_type": "code",
      "execution_count": null,
      "metadata": {
        "id": "xx970hxYLeAT"
      },
      "outputs": [],
      "source": [
        "news_dict = {\n",
        "    'headline' : headlines,\n",
        "    'date_time' : date_time,\n",
        "    'link' : news_urls,\n",
        "    'news' : articles\n",
        "}\n",
        "\n",
        "news_df = pd.DataFrame(news_dict)"
      ]
    },
    {
      "cell_type": "code",
      "execution_count": null,
      "metadata": {
        "id": "jklxxbDCAZA2"
      },
      "outputs": [],
      "source": [
        "news_df"
      ]
    },
    {
      "cell_type": "code",
      "execution_count": null,
      "metadata": {
        "id": "NTMRC3j2AcvK"
      },
      "outputs": [],
      "source": [
        "news_df.to_csv('/content/drive/MyDrive/Projects/news scraping/scraped_news.csv', index=None)"
      ]
    },
    {
      "cell_type": "code",
      "execution_count": null,
      "metadata": {
        "id": "p9W-eg1oSt2o"
      },
      "outputs": [],
      "source": []
    }
  ],
  "metadata": {
    "colab": {
      "provenance": [],
      "mount_file_id": "14wsSholgD29svTym3nqXQu4lX4emZILL",
      "authorship_tag": "ABX9TyOLdFmJ+eQtsUBp3PM+mJri",
      "include_colab_link": true
    },
    "kernelspec": {
      "display_name": "Python 3",
      "name": "python3"
    },
    "language_info": {
      "name": "python"
    }
  },
  "nbformat": 4,
  "nbformat_minor": 0
}